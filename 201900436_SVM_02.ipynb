{
 "cells": [
  {
   "cell_type": "markdown",
   "id": "b115eff4",
   "metadata": {},
   "source": [
    "# Support Vector Classification of datset- fruits.csv"
   ]
  },
  {
   "cell_type": "markdown",
   "id": "7849bac1",
   "metadata": {},
   "source": [
    "1. Import necessary libraries: numpy, pandas, sklearn (linear_model), matplotlib\n",
    "2. Load datset using padas read_csv function\n",
    "3. Represent data as a scatter plot\n",
    "        plt.xlabel(\"weight\n",
    "        plt,ylabel('Label\n",
    "        plt.scatter(df['Weight'])\n",
    "        plt.sctter(df['Label'])\n",
    "4. Split the data in a ratio of 80/20 as train_set and test_set\n",
    "5. Classify the predictors and target\n",
    "        X_train=train_set.iloc[:, 0:2].values\n",
    "        X_test=test_set.iloc[:, 0:2].values\n",
    "        y_train=train_set.iloc[:, 2].values\n",
    "        y_test=test_set.iloc[:, 2].values\n",
    "6. From sklearn.svm import SVC\n",
    "        model = SVC(kernel='rbf'/'linear', random_state=1)  ##Check which kernel is better for data\n",
    "        model.fit(X_train, y_train)\n",
    "7. Check accuracy of model\n",
    "        model.score(x_test, y_test)\n",
    "8. Predict class of fruit whose weight is 55 and size is 4\n",
    "        model.predict([[55,4]])"
   ]
  },
  {
   "cell_type": "code",
   "execution_count": 1,
   "id": "cd9db832",
   "metadata": {},
   "outputs": [],
   "source": [
    "import pandas as pd\n",
    "import numpy as np\n",
    "import matplotlib.pyplot as plt\n",
    "from sklearn.model_selection import train_test_split\n",
    "from sklearn import linear_model\n",
    "from sklearn.svm import SVC"
   ]
  },
  {
   "cell_type": "code",
   "execution_count": 2,
   "id": "c34a8840",
   "metadata": {},
   "outputs": [
    {
     "data": {
      "text/html": [
       "<div>\n",
       "<style scoped>\n",
       "    .dataframe tbody tr th:only-of-type {\n",
       "        vertical-align: middle;\n",
       "    }\n",
       "\n",
       "    .dataframe tbody tr th {\n",
       "        vertical-align: top;\n",
       "    }\n",
       "\n",
       "    .dataframe thead th {\n",
       "        text-align: right;\n",
       "    }\n",
       "</style>\n",
       "<table border=\"1\" class=\"dataframe\">\n",
       "  <thead>\n",
       "    <tr style=\"text-align: right;\">\n",
       "      <th></th>\n",
       "      <th>Weight</th>\n",
       "      <th>Colour</th>\n",
       "      <th>Label</th>\n",
       "    </tr>\n",
       "  </thead>\n",
       "  <tbody>\n",
       "    <tr>\n",
       "      <th>0</th>\n",
       "      <td>303</td>\n",
       "      <td>3</td>\n",
       "      <td>Banana</td>\n",
       "    </tr>\n",
       "    <tr>\n",
       "      <th>1</th>\n",
       "      <td>370</td>\n",
       "      <td>1</td>\n",
       "      <td>Apple</td>\n",
       "    </tr>\n",
       "    <tr>\n",
       "      <th>2</th>\n",
       "      <td>298</td>\n",
       "      <td>3</td>\n",
       "      <td>Banana</td>\n",
       "    </tr>\n",
       "    <tr>\n",
       "      <th>3</th>\n",
       "      <td>277</td>\n",
       "      <td>3</td>\n",
       "      <td>Banana</td>\n",
       "    </tr>\n",
       "    <tr>\n",
       "      <th>4</th>\n",
       "      <td>377</td>\n",
       "      <td>4</td>\n",
       "      <td>Apple</td>\n",
       "    </tr>\n",
       "  </tbody>\n",
       "</table>\n",
       "</div>"
      ],
      "text/plain": [
       "   Weight  Colour   Label\n",
       "0     303       3  Banana\n",
       "1     370       1   Apple\n",
       "2     298       3  Banana\n",
       "3     277       3  Banana\n",
       "4     377       4   Apple"
      ]
     },
     "execution_count": 2,
     "metadata": {},
     "output_type": "execute_result"
    }
   ],
   "source": [
    "data = pd.read_csv('00-fruits.csv')\n",
    "data.head()"
   ]
  },
  {
   "cell_type": "code",
   "execution_count": 10,
   "id": "bc786342",
   "metadata": {},
   "outputs": [
    {
     "data": {
      "text/plain": [
       "<matplotlib.collections.PathCollection at 0x17dbb49b220>"
      ]
     },
     "execution_count": 10,
     "metadata": {},
     "output_type": "execute_result"
    },
    {
     "data": {
      "image/png": "[encoded data removed]",
      "text/plain": [
       "<Figure size 432x288 with 1 Axes>"
      ]
     },
     "metadata": {
      "needs_background": "light"
     },
     "output_type": "display_data"
    }
   ],
   "source": [
    "plt.xlabel('Weight')\n",
    "plt.ylabel('Label')\n",
    "plt.scatter(data['Weight'], data['Weight'], color=\"blue\", marker='+')\n",
    "plt.scatter(data['Label'], data['Label'], color=\"green\", marker='.')"
   ]
  },
  {
   "cell_type": "code",
   "execution_count": 11,
   "id": "28ad315d",
   "metadata": {},
   "outputs": [],
   "source": [
    "train_set, test_set = train_test_split(data, test_size=0.25)"
   ]
  },
  {
   "cell_type": "code",
   "execution_count": 12,
   "id": "2d7fbf6b",
   "metadata": {},
   "outputs": [],
   "source": [
    "X_train = train_set.iloc[:, 0:2].values\n",
    "X_test = test_set.iloc[:, 0:2].values\n",
    "y_train = train_set.iloc[:, 2].values\n",
    "y_test = test_set.iloc[:, 2].values"
   ]
  },
  {
   "cell_type": "code",
   "execution_count": 13,
   "id": "af110e4f",
   "metadata": {},
   "outputs": [
    {
     "data": {
      "text/plain": [
       "SVC(kernel='linear', random_state=42)"
      ]
     },
     "execution_count": 13,
     "metadata": {},
     "output_type": "execute_result"
    }
   ],
   "source": [
    "model = SVC(kernel='linear', random_state = 42)\n",
    "model.fit(X_train, y_train)"
   ]
  },
  {
   "cell_type": "code",
   "execution_count": 14,
   "id": "96f48a91",
   "metadata": {},
   "outputs": [
    {
     "data": {
      "text/plain": [
       "1.0"
      ]
     },
     "execution_count": 14,
     "metadata": {},
     "output_type": "execute_result"
    }
   ],
   "source": [
    "model.score(X_test, y_test)"
   ]
  },
  {
   "cell_type": "code",
   "execution_count": 15,
   "id": "8ec6c30b",
   "metadata": {},
   "outputs": [
    {
     "data": {
      "text/plain": [
       "array(['Banana'], dtype=object)"
      ]
     },
     "execution_count": 15,
     "metadata": {},
     "output_type": "execute_result"
    }
   ],
   "source": [
    "model.predict([[55, 4]])"
   ]
  },
  {
   "cell_type": "code",
   "execution_count": null,
   "id": "087a4925",
   "metadata": {},
   "outputs": [],
   "source": []
  }
 ],
 "metadata": {
  "kernelspec": {
   "display_name": "Python 3 (ipykernel)",
   "language": "python",
   "name": "python3"
  },
  "language_info": {
   "codemirror_mode": {
    "name": "ipython",
    "version": 3
   },
   "file_extension": ".py",
   "mimetype": "text/x-python",
   "name": "python",
   "nbconvert_exporter": "python",
   "pygments_lexer": "ipython3",
   "version": "3.9.12"
  }
 },
 "nbformat": 4,
 "nbformat_minor": 5
}
